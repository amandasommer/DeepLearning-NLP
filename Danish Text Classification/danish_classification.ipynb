{
  "nbformat": 4,
  "nbformat_minor": 0,
  "metadata": {
    "colab": {
      "provenance": []
    },
    "kernelspec": {
      "name": "python3",
      "display_name": "Python 3"
    },
    "language_info": {
      "name": "python"
    },
    "accelerator": "GPU",
    "gpuClass": "standard",
    "widgets": {
      "application/vnd.jupyter.widget-state+json": {
        "35ee61dfb20e4eee80098087dcde1aa5": {
          "model_module": "@jupyter-widgets/controls",
          "model_name": "HBoxModel",
          "model_module_version": "1.5.0",
          "state": {
            "_dom_classes": [],
            "_model_module": "@jupyter-widgets/controls",
            "_model_module_version": "1.5.0",
            "_model_name": "HBoxModel",
            "_view_count": null,
            "_view_module": "@jupyter-widgets/controls",
            "_view_module_version": "1.5.0",
            "_view_name": "HBoxView",
            "box_style": "",
            "children": [
              "IPY_MODEL_d522890ce3924177b29b41dca9e33887",
              "IPY_MODEL_2688872ae8114f24bfbcd7f2525f7d28",
              "IPY_MODEL_6f26ffcbe653414fb04f3d4699a247a9"
            ],
            "layout": "IPY_MODEL_0f20ae8bfb2245f4b475becba42eac91"
          }
        },
        "d522890ce3924177b29b41dca9e33887": {
          "model_module": "@jupyter-widgets/controls",
          "model_name": "HTMLModel",
          "model_module_version": "1.5.0",
          "state": {
            "_dom_classes": [],
            "_model_module": "@jupyter-widgets/controls",
            "_model_module_version": "1.5.0",
            "_model_name": "HTMLModel",
            "_view_count": null,
            "_view_module": "@jupyter-widgets/controls",
            "_view_module_version": "1.5.0",
            "_view_name": "HTMLView",
            "description": "",
            "description_tooltip": null,
            "layout": "IPY_MODEL_efe231824d304dc9bbfa6e4e2ecf4b15",
            "placeholder": "​",
            "style": "IPY_MODEL_abb404104eca4868b582272708188102",
            "value": "Downloading builder script: 100%"
          }
        },
        "2688872ae8114f24bfbcd7f2525f7d28": {
          "model_module": "@jupyter-widgets/controls",
          "model_name": "FloatProgressModel",
          "model_module_version": "1.5.0",
          "state": {
            "_dom_classes": [],
            "_model_module": "@jupyter-widgets/controls",
            "_model_module_version": "1.5.0",
            "_model_name": "FloatProgressModel",
            "_view_count": null,
            "_view_module": "@jupyter-widgets/controls",
            "_view_module_version": "1.5.0",
            "_view_name": "ProgressView",
            "bar_style": "success",
            "description": "",
            "description_tooltip": null,
            "layout": "IPY_MODEL_9857b17633c0439ea0f56f47e6ea2aea",
            "max": 5749,
            "min": 0,
            "orientation": "horizontal",
            "style": "IPY_MODEL_becf793828b24b948aacfe6bf1da17b7",
            "value": 5749
          }
        },
        "6f26ffcbe653414fb04f3d4699a247a9": {
          "model_module": "@jupyter-widgets/controls",
          "model_name": "HTMLModel",
          "model_module_version": "1.5.0",
          "state": {
            "_dom_classes": [],
            "_model_module": "@jupyter-widgets/controls",
            "_model_module_version": "1.5.0",
            "_model_name": "HTMLModel",
            "_view_count": null,
            "_view_module": "@jupyter-widgets/controls",
            "_view_module_version": "1.5.0",
            "_view_name": "HTMLView",
            "description": "",
            "description_tooltip": null,
            "layout": "IPY_MODEL_d6df4925b10745608e7ed3c1355e2076",
            "placeholder": "​",
            "style": "IPY_MODEL_c058c43d5ecc4ca59d63ce4ebbbfd6af",
            "value": " 5.75k/5.75k [00:00&lt;00:00, 358kB/s]"
          }
        },
        "0f20ae8bfb2245f4b475becba42eac91": {
          "model_module": "@jupyter-widgets/base",
          "model_name": "LayoutModel",
          "model_module_version": "1.2.0",
          "state": {
            "_model_module": "@jupyter-widgets/base",
            "_model_module_version": "1.2.0",
            "_model_name": "LayoutModel",
            "_view_count": null,
            "_view_module": "@jupyter-widgets/base",
            "_view_module_version": "1.2.0",
            "_view_name": "LayoutView",
            "align_content": null,
            "align_items": null,
            "align_self": null,
            "border": null,
            "bottom": null,
            "display": null,
            "flex": null,
            "flex_flow": null,
            "grid_area": null,
            "grid_auto_columns": null,
            "grid_auto_flow": null,
            "grid_auto_rows": null,
            "grid_column": null,
            "grid_gap": null,
            "grid_row": null,
            "grid_template_areas": null,
            "grid_template_columns": null,
            "grid_template_rows": null,
            "height": null,
            "justify_content": null,
            "justify_items": null,
            "left": null,
            "margin": null,
            "max_height": null,
            "max_width": null,
            "min_height": null,
            "min_width": null,
            "object_fit": null,
            "object_position": null,
            "order": null,
            "overflow": null,
            "overflow_x": null,
            "overflow_y": null,
            "padding": null,
            "right": null,
            "top": null,
            "visibility": null,
            "width": null
          }
        },
        "efe231824d304dc9bbfa6e4e2ecf4b15": {
          "model_module": "@jupyter-widgets/base",
          "model_name": "LayoutModel",
          "model_module_version": "1.2.0",
          "state": {
            "_model_module": "@jupyter-widgets/base",
            "_model_module_version": "1.2.0",
            "_model_name": "LayoutModel",
            "_view_count": null,
            "_view_module": "@jupyter-widgets/base",
            "_view_module_version": "1.2.0",
            "_view_name": "LayoutView",
            "align_content": null,
            "align_items": null,
            "align_self": null,
            "border": null,
            "bottom": null,
            "display": null,
            "flex": null,
            "flex_flow": null,
            "grid_area": null,
            "grid_auto_columns": null,
            "grid_auto_flow": null,
            "grid_auto_rows": null,
            "grid_column": null,
            "grid_gap": null,
            "grid_row": null,
            "grid_template_areas": null,
            "grid_template_columns": null,
            "grid_template_rows": null,
            "height": null,
            "justify_content": null,
            "justify_items": null,
            "left": null,
            "margin": null,
            "max_height": null,
            "max_width": null,
            "min_height": null,
            "min_width": null,
            "object_fit": null,
            "object_position": null,
            "order": null,
            "overflow": null,
            "overflow_x": null,
            "overflow_y": null,
            "padding": null,
            "right": null,
            "top": null,
            "visibility": null,
            "width": null
          }
        },
        "abb404104eca4868b582272708188102": {
          "model_module": "@jupyter-widgets/controls",
          "model_name": "DescriptionStyleModel",
          "model_module_version": "1.5.0",
          "state": {
            "_model_module": "@jupyter-widgets/controls",
            "_model_module_version": "1.5.0",
            "_model_name": "DescriptionStyleModel",
            "_view_count": null,
            "_view_module": "@jupyter-widgets/base",
            "_view_module_version": "1.2.0",
            "_view_name": "StyleView",
            "description_width": ""
          }
        },
        "9857b17633c0439ea0f56f47e6ea2aea": {
          "model_module": "@jupyter-widgets/base",
          "model_name": "LayoutModel",
          "model_module_version": "1.2.0",
          "state": {
            "_model_module": "@jupyter-widgets/base",
            "_model_module_version": "1.2.0",
            "_model_name": "LayoutModel",
            "_view_count": null,
            "_view_module": "@jupyter-widgets/base",
            "_view_module_version": "1.2.0",
            "_view_name": "LayoutView",
            "align_content": null,
            "align_items": null,
            "align_self": null,
            "border": null,
            "bottom": null,
            "display": null,
            "flex": null,
            "flex_flow": null,
            "grid_area": null,
            "grid_auto_columns": null,
            "grid_auto_flow": null,
            "grid_auto_rows": null,
            "grid_column": null,
            "grid_gap": null,
            "grid_row": null,
            "grid_template_areas": null,
            "grid_template_columns": null,
            "grid_template_rows": null,
            "height": null,
            "justify_content": null,
            "justify_items": null,
            "left": null,
            "margin": null,
            "max_height": null,
            "max_width": null,
            "min_height": null,
            "min_width": null,
            "object_fit": null,
            "object_position": null,
            "order": null,
            "overflow": null,
            "overflow_x": null,
            "overflow_y": null,
            "padding": null,
            "right": null,
            "top": null,
            "visibility": null,
            "width": null
          }
        },
        "becf793828b24b948aacfe6bf1da17b7": {
          "model_module": "@jupyter-widgets/controls",
          "model_name": "ProgressStyleModel",
          "model_module_version": "1.5.0",
          "state": {
            "_model_module": "@jupyter-widgets/controls",
            "_model_module_version": "1.5.0",
            "_model_name": "ProgressStyleModel",
            "_view_count": null,
            "_view_module": "@jupyter-widgets/base",
            "_view_module_version": "1.2.0",
            "_view_name": "StyleView",
            "bar_color": null,
            "description_width": ""
          }
        },
        "d6df4925b10745608e7ed3c1355e2076": {
          "model_module": "@jupyter-widgets/base",
          "model_name": "LayoutModel",
          "model_module_version": "1.2.0",
          "state": {
            "_model_module": "@jupyter-widgets/base",
            "_model_module_version": "1.2.0",
            "_model_name": "LayoutModel",
            "_view_count": null,
            "_view_module": "@jupyter-widgets/base",
            "_view_module_version": "1.2.0",
            "_view_name": "LayoutView",
            "align_content": null,
            "align_items": null,
            "align_self": null,
            "border": null,
            "bottom": null,
            "display": null,
            "flex": null,
            "flex_flow": null,
            "grid_area": null,
            "grid_auto_columns": null,
            "grid_auto_flow": null,
            "grid_auto_rows": null,
            "grid_column": null,
            "grid_gap": null,
            "grid_row": null,
            "grid_template_areas": null,
            "grid_template_columns": null,
            "grid_template_rows": null,
            "height": null,
            "justify_content": null,
            "justify_items": null,
            "left": null,
            "margin": null,
            "max_height": null,
            "max_width": null,
            "min_height": null,
            "min_width": null,
            "object_fit": null,
            "object_position": null,
            "order": null,
            "overflow": null,
            "overflow_x": null,
            "overflow_y": null,
            "padding": null,
            "right": null,
            "top": null,
            "visibility": null,
            "width": null
          }
        },
        "c058c43d5ecc4ca59d63ce4ebbbfd6af": {
          "model_module": "@jupyter-widgets/controls",
          "model_name": "DescriptionStyleModel",
          "model_module_version": "1.5.0",
          "state": {
            "_model_module": "@jupyter-widgets/controls",
            "_model_module_version": "1.5.0",
            "_model_name": "DescriptionStyleModel",
            "_view_count": null,
            "_view_module": "@jupyter-widgets/base",
            "_view_module_version": "1.2.0",
            "_view_name": "StyleView",
            "description_width": ""
          }
        }
      }
    }
  },
  "cells": [
    {
      "cell_type": "code",
      "source": [
        "!pip install transformers\n",
        "!pip install datasets \n",
        "!pip install pandas\n",
        "!pip install evaluate \n",
        "!pip install accelerate\n",
        "!pip install numpy\n",
        "!pip install sklearn\n",
        "!pip install openpyxl\n"
      ],
      "metadata": {
        "id": "h59D2yHA_Zo4"
      },
      "execution_count": null,
      "outputs": []
    },
    {
      "cell_type": "code",
      "source": [
        "from google.colab import drive\n",
        "drive.mount('/content/drive')"
      ],
      "metadata": {
        "colab": {
          "base_uri": "https://localhost:8080/"
        },
        "id": "jLtkWBdF5I3J",
        "outputId": "fec117bf-eccf-4206-8a52-c8393e5555fb"
      },
      "execution_count": null,
      "outputs": [
        {
          "output_type": "stream",
          "name": "stdout",
          "text": [
            "Mounted at /content/drive\n"
          ]
        }
      ]
    },
    {
      "cell_type": "code",
      "source": [
        "import matplotlib.pyplot as plt\n",
        "import transformers\n",
        "import datasets\n",
        "import pandas as pd\n",
        "import evaluate\n",
        "import accelerate\n",
        "import numpy as np\n",
        "import sklearn\n",
        "import openpyxl\n",
        "\n",
        "from datasets import Dataset, DatasetDict, load_dataset, load_from_disk\n",
        "from transformers import BertTokenizer, BertForMaskedLM, AutoTokenizer, AutoModel, BertForSequenceClassification, AutoModelForSequenceClassification\n",
        "from transformers import InputExample, InputFeatures, DataCollatorWithPadding\n",
        "\n",
        "from sklearn.model_selection import train_test_split\n",
        "from sklearn.metrics import confusion_matrix\n",
        "from sklearn.metrics import accuracy_score\n",
        "from sklearn.metrics import f1_score, roc_auc_score\n",
        "\n",
        "from transformers import AdamW\n",
        "from transformers import get_scheduler\n",
        "from accelerate import Accelerator\n",
        "from tqdm.auto import tqdm\n",
        "from tqdm import tqdm\n",
        "\n",
        "from torch.utils.data import DataLoader\n",
        "from torch import nn\n",
        "import torch.nn.functional as F\n",
        "from torch.nn.parameter import Parameter\n",
        "import torch.optim as optim\n",
        "import torch.nn.init as init\n",
        "from torch import argmax\n",
        "from torch import no_grad\n",
        "\n",
        "import matplotlib.pyplot as plt\n",
        "import seaborn as sn"
      ],
      "metadata": {
        "id": "UU7J6edY_L7Y"
      },
      "execution_count": null,
      "outputs": []
    },
    {
      "cell_type": "code",
      "source": [
        "#Importing the dataseet 'DanishClassificationClimataDataset.csv'\n",
        "df = pd.read_csv('/content/drive/MyDrive/DL_klimabert/DanishClassificationClimateDataset.csv', index_col = 0)\n",
        "    \n",
        "df.loc[df.Climate == df.Climate.unique()[2]] = '0'\n",
        "df.Climate = pd.to_numeric(df.Climate)\n",
        "df.rename(columns={'Comment': 'text', 'Climate': 'label'}, inplace=True)\n",
        "\n",
        "#Splitting into train and test sets\n",
        "train, test = train_test_split(df, test_size=0.1)\n",
        "\n",
        "train_final = datasets.Dataset.from_dict(train)\n",
        "test_final = datasets.Dataset.from_dict(test)\n",
        "\n",
        "dataset_dict = datasets.DatasetDict({\"train\":train_final,\"test\":test_final, })\n",
        "#use_cuda = torch.cuda.is_available()\n",
        "#device = torch.device(\"cuda\" if use_cuda else \"cpu\")"
      ],
      "metadata": {
        "id": "E11K98WoB4wI"
      },
      "execution_count": null,
      "outputs": []
    },
    {
      "cell_type": "code",
      "source": [
        "#import tokenizer and model \n",
        "klima_bert = \"jonahank/KlimaBERT\"\n",
        "danish_bert = \"Maltehb/danish-bert-botxo\"\n",
        "\n",
        "model_name =  klima_bert #danish_bert\n",
        "labels = train['label'].nunique()\n",
        "\n",
        "tokenizer = AutoTokenizer.from_pretrained(model_name)\n",
        "model = AutoModelForSequenceClassification.from_pretrained(model_name, num_labels = labels) \n",
        "\n",
        "\n",
        "#tokenize data\n",
        "def tokenize_function(example):\n",
        "    return tokenizer(example[\"text\"], truncation=True, max_length = 512, padding='max_length')\n",
        "\n",
        "tokenized_datasets = dataset_dict.map(tokenize_function, batched=True)\n",
        "data_collator = DataCollatorWithPadding(tokenizer=tokenizer)\n",
        "\n",
        "tokenized_datasets = tokenized_datasets.remove_columns([\"text\"])\n",
        "tokenized_datasets.set_format(\"torch\")"
      ],
      "metadata": {
        "id": "QLvQRfl-Bscy"
      },
      "execution_count": null,
      "outputs": []
    },
    {
      "cell_type": "code",
      "source": [
        "batch_size = 16 \n",
        "epoch_nr = 100\n",
        "\n",
        "#preparing the data via dataloader\n",
        "train_dataloader = DataLoader(\n",
        "    tokenized_datasets[\"train\"], shuffle=True, batch_size=batch_size, collate_fn=data_collator\n",
        ")\n",
        "eval_dataloader = DataLoader(\n",
        "    tokenized_datasets[\"test\"], batch_size=batch_size, collate_fn=data_collator\n",
        ")\n"
      ],
      "metadata": {
        "id": "54nFua3ABl45"
      },
      "execution_count": null,
      "outputs": []
    },
    {
      "cell_type": "code",
      "execution_count": null,
      "metadata": {
        "colab": {
          "base_uri": "https://localhost:8080/",
          "height": 160,
          "referenced_widgets": [
            "35ee61dfb20e4eee80098087dcde1aa5",
            "d522890ce3924177b29b41dca9e33887",
            "2688872ae8114f24bfbcd7f2525f7d28",
            "6f26ffcbe653414fb04f3d4699a247a9",
            "0f20ae8bfb2245f4b475becba42eac91",
            "efe231824d304dc9bbfa6e4e2ecf4b15",
            "abb404104eca4868b582272708188102",
            "9857b17633c0439ea0f56f47e6ea2aea",
            "becf793828b24b948aacfe6bf1da17b7",
            "d6df4925b10745608e7ed3c1355e2076",
            "c058c43d5ecc4ca59d63ce4ebbbfd6af"
          ]
        },
        "id": "mxrYIQDF_Hzf",
        "outputId": "1bf9bf6a-d29b-48fb-df50-c37bd5e0d5f5"
      },
      "outputs": [
        {
          "output_type": "stream",
          "name": "stderr",
          "text": [
            "/usr/local/lib/python3.8/dist-packages/transformers/optimization.py:306: FutureWarning: This implementation of AdamW is deprecated and will be removed in a future version. Use the PyTorch implementation torch.optim.AdamW instead, or set `no_deprecation_warning=True` to disable this warning\n",
            "  warnings.warn(\n",
            "  0%|          | 0/3950 [00:00<?, ?it/s]You're using a BertTokenizerFast tokenizer. Please note that with a fast tokenizer, using the `__call__` method is faster than using a method to encode the text followed by a call to the `pad` method to get a padded encoding.\n",
            "  2%|▏         | 79/3950 [01:51<1:06:45,  1.03s/it]"
          ]
        },
        {
          "output_type": "display_data",
          "data": {
            "text/plain": [
              "Downloading builder script:   0%|          | 0.00/5.75k [00:00<?, ?B/s]"
            ],
            "application/vnd.jupyter.widget-view+json": {
              "version_major": 2,
              "version_minor": 0,
              "model_id": "35ee61dfb20e4eee80098087dcde1aa5"
            }
          },
          "metadata": {}
        },
        {
          "output_type": "stream",
          "name": "stderr",
          "text": [
            "100%|██████████| 3950/3950 [1:39:26<00:00,  1.04s/it]"
          ]
        }
      ],
      "source": [
        "#This is to check that our batch has the proper dimensions and column\n",
        "#for batch in train_dataloader:\n",
        "#    break\n",
        "#{k: v.shape for k, v in batch.items()}\n",
        "\n",
        "# setting up lists for handling loss/accuracy\n",
        "train_accuracies, eval_accuracies = [],[]\n",
        "train_losses, eval_losses = [],[]\n",
        "\n",
        "train_targs, train_preds = [], []\n",
        "eval_targs, eval_preds = [],[]\n",
        "\n",
        "f1_eval_all, f1_train_all  = [], []\n",
        "roc_auc_train_all, roc_auc_eval_all= [], []\n",
        "\n",
        "### Initializing model and optimizer\n",
        "accelerator = Accelerator()\n",
        "model = AutoModelForSequenceClassification.from_pretrained(model_name, num_labels=labels)\n",
        "optimizer = AdamW(model.parameters(), \n",
        "                  lr=5e-5, weight_decay=0.01)\n",
        "\n",
        "### Preparing training and evaluation datasets \n",
        "train_dl, eval_dl, model, optimizer = accelerator.prepare(\n",
        "    train_dataloader, eval_dataloader, model, optimizer\n",
        ")\n",
        "\n",
        "# Setting the scheduler\n",
        "num_epochs = epoch_nr\n",
        "num_training_steps = num_epochs * len(train_dl)\n",
        "lr_scheduler = get_scheduler(\n",
        "    \"linear\",\n",
        "    optimizer=optimizer,\n",
        "    num_warmup_steps=0,\n",
        "    num_training_steps=num_training_steps,\n",
        ")\n",
        "\n",
        "progress_bar = tqdm(range(num_training_steps))\n",
        "for epoch in range(num_epochs):    \n",
        "    #----------------### The training loop ####---------------\n",
        "    model.train()\n",
        "    cur_train_targs, cur_train_preds = [],[]\n",
        "    train_loss = 0\n",
        "    \n",
        "    for batch in train_dl:\n",
        "        outputs = model(**batch)\n",
        "        \n",
        "        #Predictions\n",
        "        logits = outputs.logits\n",
        "        predictions = argmax(logits, dim=-1)\n",
        "        \n",
        "        cur_train_targs += batch[\"labels\"].tolist() \n",
        "        cur_train_preds += predictions.tolist()    \n",
        "        \n",
        "        #Losses\n",
        "        loss = outputs.loss\n",
        "        accelerator.backward(loss)\n",
        "        train_loss += loss \n",
        "\n",
        "        #Optimizer step\n",
        "        optimizer.step()\n",
        "        lr_scheduler.step()\n",
        "        optimizer.zero_grad()\n",
        "        \n",
        "        progress_bar.update(1)\n",
        "    \n",
        "    #----------------### The evaluation loop ####---------------\n",
        "    model.eval()\n",
        "    cur_eval_targs, cur_eval_preds = [],[]\n",
        "    eval_loss = 0\n",
        "    metric = evaluate.load(\"glue\", \"mrpc\")\n",
        "\n",
        "    for batch in eval_dl:\n",
        "        #batch = {k: v.to(device) for k, v in batch.items()}\n",
        "        with no_grad():\n",
        "            outputs = model(**batch)\n",
        "\n",
        "        #Predictions\n",
        "        logits = outputs.logits\n",
        "        predictions = argmax(logits, dim=-1)\n",
        "        \n",
        "        cur_eval_targs += batch[\"labels\"].tolist()      \n",
        "        cur_eval_preds  += predictions.tolist()         \n",
        "        \n",
        "        #Losses\n",
        "        eval_loss += outputs.loss \n",
        "            \n",
        "        metric.add_batch(predictions=predictions, references=batch[\"labels\"])\n",
        "    \n",
        "    #---- Taking note of the losses and accuracies #--#\n",
        "    train_losses.append(train_loss.item() / len(train_dl))  # the training loss\n",
        "    eval_losses.append(eval_loss.item() / len(eval_dl))    # the validation loss\n",
        "\n",
        "    train_acc_cur = accuracy_score(cur_train_targs, cur_train_preds)    \n",
        "    train_accuracies.append(train_acc_cur)\n",
        "    \n",
        "    eval_acc_cur = accuracy_score(cur_eval_targs, cur_eval_preds)    \n",
        "    eval_accuracies.append(eval_acc_cur)\n",
        "    \n",
        "    f1_train = f1_score(cur_train_targs, cur_train_preds, average='weighted')\n",
        "    f1_eval = f1_score(cur_eval_targs, cur_eval_preds, average='weighted')\n",
        "    f1_train_all.append(f1_train)\n",
        "    f1_eval_all.append(f1_eval)\n",
        "    \n",
        "    #----------- And keeping track of the actual predictions and targets #---------#\n",
        "    eval_targs += cur_eval_targs\n",
        "    eval_preds += cur_eval_preds\n",
        "    \n",
        "    train_targs += cur_train_targs\n",
        "    train_preds += cur_train_preds\n",
        "    #------------------------------------------------------------------------------#   \n",
        "\n",
        "    pd.DataFrame(eval_targs).to_excel('/content/drive/MyDrive/DL_klimabert/last_eval_targs.xlsx')\n",
        "    pd.DataFrame(eval_preds).to_excel('/content/drive/MyDrive/DL_klimabert/last_eval_preds.xlsx')\n",
        "    pd.DataFrame(train_targs).to_excel('/content/drive/MyDrive/DL_klimabert/last_train_targs.xlsx')\n",
        "    pd.DataFrame(train_preds).to_excel('/content/drive/MyDrive/DL_klimabert/last_train_preds.xlsx')\n",
        "    pd.DataFrame(train_losses).to_excel('/content/drive/MyDrive/DL_klimabert/train_losses.xlsx')\n",
        "    pd.DataFrame(eval_losses).to_excel('/content/drive/MyDrive/DL_klimabert/eval_losses.xlsx')\n",
        "    pd.DataFrame(train_accuracies).to_excel('/content/drive/MyDrive/DL_klimabert/train_accuracies.xlsx')\n",
        "    pd.DataFrame(eval_accuracies).to_excel('/content/drive/MyDrive/DL_klimabert/eval_accuracies.xlsx')\n",
        "    pd.DataFrame(f1_train_all).to_excel('/content/drive/MyDrive/DL_klimabert/f1_train_all.xlsx')\n",
        "    pd.DataFrame(f1_eval_all).to_excel('/content/drive/MyDrive/DL_klimabert/f1_eval_all.xlsx')"
      ]
    },
    {
      "cell_type": "code",
      "source": [
        "#Calculating statistics\n",
        "avg_loss_train = np.mean(train_losses)\n",
        "avg_loss_eval = np.mean(eval_losses)\n",
        "\n",
        "avg_accur_train = np.mean(train_accuracies)\n",
        "avg_accur_eval = np.mean(eval_accuracies)\n",
        "\n",
        "avg_f1_train = np.mean(f1_train_all)\n",
        "avg_f1_eval = np.mean(f1_eval_all)\n",
        "\n",
        "best_loss_train = np.min(train_losses)\n",
        "best_loss_eval = np.min(eval_losses)\n",
        "\n",
        "best_accur_train = np.max(train_accuracies)\n",
        "best_accur_eval = np.max(eval_accuracies)\n",
        "\n",
        "best_f1_train = np.max(f1_train_all)\n",
        "best_f1_eval = np.max(f1_eval_all)"
      ],
      "metadata": {
        "id": "lVKAoBT8l4fN"
      },
      "execution_count": null,
      "outputs": []
    },
    {
      "cell_type": "code",
      "source": [
        "#Saving statistics\n",
        "with open('/content/drive/MyDrive/DL_klimabert/Resultater.txt','a') as file:\n",
        "    file.write('avg_loss_train: ' + str(avg_loss_train))\n",
        "    file.write('\\n')\n",
        "    file.write('avg_loss_eval: ' + str(avg_loss_eval))\n",
        "    file.write('\\n')\n",
        "    file.write('avg_accur_train: ' + str(avg_accur_train))\n",
        "    file.write('\\n')\n",
        "    file.write('avg_accur_eval: ' + str(avg_accur_eval))\n",
        "    file.write('\\n')\n",
        "    file.write('avg_f1_train: ' + str(avg_f1_train))\n",
        "    file.write('\\n')\n",
        "    file.write('avg_f1_eval: ' + str(avg_f1_eval))\n",
        "    file.write('\\n')\n",
        "    file.write('best_loss_train: ' + str(best_loss_train))\n",
        "    file.write('\\n')\n",
        "    file.write('best_loss_eval: ' + str(best_loss_eval))\n",
        "    file.write('\\n')\n",
        "    file.write('best_accur_train: ' + str(best_accur_train))\n",
        "    file.write('\\n')\n",
        "    file.write('best_accur_eval: ' + str(best_accur_eval))\n",
        "    file.write('\\n')\n",
        "    file.write('best_f1_train: ' + str(best_f1_train))\n",
        "    file.write('\\n')\n",
        "    file.write('best_f1_eval: ' + str(best_f1_eval))"
      ],
      "metadata": {
        "id": "WByPvZOIldJi"
      },
      "execution_count": null,
      "outputs": []
    },
    {
      "cell_type": "code",
      "source": [
        "#plotting accuracies\n",
        "epoch = np.arange(len(train_accuracies))\n",
        "fig_scores = plt.figure()\n",
        "plt.plot(epoch, train_accuracies, 'r', epoch, eval_accuracies, 'b')\n",
        "plt.legend(['Train Accucary','Validation Accuracy'])\n",
        "plt.xlabel('Updates'), plt.ylabel('Acc')\n",
        "fig_scores.savefig('/content/drive/MyDrive/DL_klimabert/Accuracies_test.png')"
      ],
      "metadata": {
        "id": "hLnR5ClllHR0"
      },
      "execution_count": null,
      "outputs": []
    },
    {
      "cell_type": "code",
      "source": [
        "#plotting confusion matrix \n",
        "numpypreds = np.array(eval_preds)\n",
        "numpypreds = np.where(numpypreds == 0, 'Non-climate', np.where(numpypreds == 1, 'Climate-related', 'Else'))\n",
        "\n",
        "numpylabels = np.array(eval_targs)\n",
        "numpylabels = np.where(numpylabels == 0, 'Non-climate', np.where(numpylabels == 1, 'Climate-related', 'Else'))\n",
        "\n",
        "\n",
        "confmatrix = confusion_matrix(numpylabels, numpypreds, labels = ['Non-climate', 'Climate-related'], sample_weight=None, normalize=None)\n",
        "fig = plt.figure()\n",
        "ax = fig.add_subplot()\n",
        "sn.heatmap(confmatrix, annot=True, cmap = 'flare',fmt='d', ax=ax, cbar=True);  #an,not=True to annotate cells, ftm='g' to disable scientific notation\n",
        "\n",
        "# labels, title and ticks\n",
        "ax.set_xlabel('Predicted labels'); \n",
        "ax.set_ylabel('True labels'); \n",
        "ax.set_title('Validation Confusion Matrix ' + model_name); \n",
        "ax.xaxis.set_ticklabels(['Non-climate', 'Climate-related']); ax.yaxis.set_ticklabels(['Non-climate', 'Climate-related']);\n",
        "fig.savefig('/content/drive/MyDrive/DL_klimabert/confmatrix_test.png')"
      ],
      "metadata": {
        "id": "JZCWKyl9C8-y"
      },
      "execution_count": null,
      "outputs": []
    },
    {
      "cell_type": "code",
      "source": [
        "#plotting losses\n",
        "epoch = np.arange(len(train_losses))\n",
        "fig_scores = plt.figure()\n",
        "plt.plot(epoch, train_losses, 'r', epoch, eval_losses, 'b')\n",
        "plt.legend(['Train Loss','Validation Loss'])\n",
        "plt.xlabel('Updates'), plt.ylabel('Loss')\n",
        "fig_scores.savefig('/content/drive/MyDrive/DL_klimabert/Losses_test.png')"
      ],
      "metadata": {
        "id": "Vq36v_LVn3QE",
        "colab": {
          "base_uri": "https://localhost:8080/",
          "height": 282
        },
        "outputId": "cf0e5ba0-e322-4028-8975-78012aeff331"
      },
      "execution_count": null,
      "outputs": [
        {
          "output_type": "display_data",
          "data": {
            "text/plain": [
              "<Figure size 432x288 with 1 Axes>"
            ],
            "image/png": "[encoded data removed]"
          },
          "metadata": {
            "needs_background": "light"
          }
        }
      ]
    },
    {
      "cell_type": "code",
      "source": [
        "#plotting f1 scores\n",
        "epoch = np.arange(len(train_accuracies))\n",
        "fig_scores = plt.figure()\n",
        "plt.plot(epoch, f1_train_all, 'r', epoch, f1_eval_all, 'b')\n",
        "plt.legend(['Train f1','Validation f1'])\n",
        "plt.xlabel('Updates'), plt.ylabel('f1')\n",
        "fig_scores.savefig('/content/drive/MyDrive/DL_klimabert/f1_test.png')"
      ],
      "metadata": {
        "id": "F6bUgNy4ok8f",
        "colab": {
          "base_uri": "https://localhost:8080/",
          "height": 279
        },
        "outputId": "9931eef0-7954-4fa9-a516-a10bf4ec1d2a"
      },
      "execution_count": null,
      "outputs": [
        {
          "output_type": "display_data",
          "data": {
            "text/plain": [
              "<Figure size 432x288 with 1 Axes>"
            ],
            "image/png": "[encoded data removed]"
          },
          "metadata": {
            "needs_background": "light"
          }
        }
      ]
    }
  ]
}