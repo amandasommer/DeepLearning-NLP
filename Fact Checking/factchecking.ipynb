{
  "nbformat": 4,
  "nbformat_minor": 0,
  "metadata": {
    "colab": {
      "provenance": []
    },
    "kernelspec": {
      "name": "python3",
      "display_name": "Python 3"
    },
    "language_info": {
      "name": "python"
    },
    "gpuClass": "standard",
    "widgets": {
      "application/vnd.jupyter.widget-state+json": {
        "64ef093c99ac44b3ab231aec0be6799a": {
          "model_module": "@jupyter-widgets/controls",
          "model_name": "HBoxModel",
          "model_module_version": "1.5.0",
          "state": {
            "_dom_classes": [],
            "_model_module": "@jupyter-widgets/controls",
            "_model_module_version": "1.5.0",
            "_model_name": "HBoxModel",
            "_view_count": null,
            "_view_module": "@jupyter-widgets/controls",
            "_view_module_version": "1.5.0",
            "_view_name": "HBoxView",
            "box_style": "",
            "children": [
              "IPY_MODEL_6bf0b117d56b45b786d4dd5fa8fb81b4",
              "IPY_MODEL_65345262847e4c64b173b8d7e3a65431",
              "IPY_MODEL_42fde5c27216428e8130ccefab19c7fb"
            ],
            "layout": "IPY_MODEL_b7199ea205194c52b0afee723c9dbe8d"
          }
        },
        "6bf0b117d56b45b786d4dd5fa8fb81b4": {
          "model_module": "@jupyter-widgets/controls",
          "model_name": "HTMLModel",
          "model_module_version": "1.5.0",
          "state": {
            "_dom_classes": [],
            "_model_module": "@jupyter-widgets/controls",
            "_model_module_version": "1.5.0",
            "_model_name": "HTMLModel",
            "_view_count": null,
            "_view_module": "@jupyter-widgets/controls",
            "_view_module_version": "1.5.0",
            "_view_name": "HTMLView",
            "description": "",
            "description_tooltip": null,
            "layout": "IPY_MODEL_cf606cb8c8744902bfd738bb0ab8ac01",
            "placeholder": "​",
            "style": "IPY_MODEL_abdf4672dbe443059629c241ba4c2c33",
            "value": "Downloading builder script: 100%"
          }
        },
        "65345262847e4c64b173b8d7e3a65431": {
          "model_module": "@jupyter-widgets/controls",
          "model_name": "FloatProgressModel",
          "model_module_version": "1.5.0",
          "state": {
            "_dom_classes": [],
            "_model_module": "@jupyter-widgets/controls",
            "_model_module_version": "1.5.0",
            "_model_name": "FloatProgressModel",
            "_view_count": null,
            "_view_module": "@jupyter-widgets/controls",
            "_view_module_version": "1.5.0",
            "_view_name": "ProgressView",
            "bar_style": "success",
            "description": "",
            "description_tooltip": null,
            "layout": "IPY_MODEL_6489366c49f64c7c8999a8874210725c",
            "max": 5749,
            "min": 0,
            "orientation": "horizontal",
            "style": "IPY_MODEL_e12c33d68d2d40828de918e4c0dd616e",
            "value": 5749
          }
        },
        "42fde5c27216428e8130ccefab19c7fb": {
          "model_module": "@jupyter-widgets/controls",
          "model_name": "HTMLModel",
          "model_module_version": "1.5.0",
          "state": {
            "_dom_classes": [],
            "_model_module": "@jupyter-widgets/controls",
            "_model_module_version": "1.5.0",
            "_model_name": "HTMLModel",
            "_view_count": null,
            "_view_module": "@jupyter-widgets/controls",
            "_view_module_version": "1.5.0",
            "_view_name": "HTMLView",
            "description": "",
            "description_tooltip": null,
            "layout": "IPY_MODEL_b962b035e68a410bb0389f2bcba1d384",
            "placeholder": "​",
            "style": "IPY_MODEL_fbc8f659db2d40429d9f9cb71d987a51",
            "value": " 5.75k/5.75k [00:00&lt;00:00, 357kB/s]"
          }
        },
        "b7199ea205194c52b0afee723c9dbe8d": {
          "model_module": "@jupyter-widgets/base",
          "model_name": "LayoutModel",
          "model_module_version": "1.2.0",
          "state": {
            "_model_module": "@jupyter-widgets/base",
            "_model_module_version": "1.2.0",
            "_model_name": "LayoutModel",
            "_view_count": null,
            "_view_module": "@jupyter-widgets/base",
            "_view_module_version": "1.2.0",
            "_view_name": "LayoutView",
            "align_content": null,
            "align_items": null,
            "align_self": null,
            "border": null,
            "bottom": null,
            "display": null,
            "flex": null,
            "flex_flow": null,
            "grid_area": null,
            "grid_auto_columns": null,
            "grid_auto_flow": null,
            "grid_auto_rows": null,
            "grid_column": null,
            "grid_gap": null,
            "grid_row": null,
            "grid_template_areas": null,
            "grid_template_columns": null,
            "grid_template_rows": null,
            "height": null,
            "justify_content": null,
            "justify_items": null,
            "left": null,
            "margin": null,
            "max_height": null,
            "max_width": null,
            "min_height": null,
            "min_width": null,
            "object_fit": null,
            "object_position": null,
            "order": null,
            "overflow": null,
            "overflow_x": null,
            "overflow_y": null,
            "padding": null,
            "right": null,
            "top": null,
            "visibility": null,
            "width": null
          }
        },
        "cf606cb8c8744902bfd738bb0ab8ac01": {
          "model_module": "@jupyter-widgets/base",
          "model_name": "LayoutModel",
          "model_module_version": "1.2.0",
          "state": {
            "_model_module": "@jupyter-widgets/base",
            "_model_module_version": "1.2.0",
            "_model_name": "LayoutModel",
            "_view_count": null,
            "_view_module": "@jupyter-widgets/base",
            "_view_module_version": "1.2.0",
            "_view_name": "LayoutView",
            "align_content": null,
            "align_items": null,
            "align_self": null,
            "border": null,
            "bottom": null,
            "display": null,
            "flex": null,
            "flex_flow": null,
            "grid_area": null,
            "grid_auto_columns": null,
            "grid_auto_flow": null,
            "grid_auto_rows": null,
            "grid_column": null,
            "grid_gap": null,
            "grid_row": null,
            "grid_template_areas": null,
            "grid_template_columns": null,
            "grid_template_rows": null,
            "height": null,
            "justify_content": null,
            "justify_items": null,
            "left": null,
            "margin": null,
            "max_height": null,
            "max_width": null,
            "min_height": null,
            "min_width": null,
            "object_fit": null,
            "object_position": null,
            "order": null,
            "overflow": null,
            "overflow_x": null,
            "overflow_y": null,
            "padding": null,
            "right": null,
            "top": null,
            "visibility": null,
            "width": null
          }
        },
        "abdf4672dbe443059629c241ba4c2c33": {
          "model_module": "@jupyter-widgets/controls",
          "model_name": "DescriptionStyleModel",
          "model_module_version": "1.5.0",
          "state": {
            "_model_module": "@jupyter-widgets/controls",
            "_model_module_version": "1.5.0",
            "_model_name": "DescriptionStyleModel",
            "_view_count": null,
            "_view_module": "@jupyter-widgets/base",
            "_view_module_version": "1.2.0",
            "_view_name": "StyleView",
            "description_width": ""
          }
        },
        "6489366c49f64c7c8999a8874210725c": {
          "model_module": "@jupyter-widgets/base",
          "model_name": "LayoutModel",
          "model_module_version": "1.2.0",
          "state": {
            "_model_module": "@jupyter-widgets/base",
            "_model_module_version": "1.2.0",
            "_model_name": "LayoutModel",
            "_view_count": null,
            "_view_module": "@jupyter-widgets/base",
            "_view_module_version": "1.2.0",
            "_view_name": "LayoutView",
            "align_content": null,
            "align_items": null,
            "align_self": null,
            "border": null,
            "bottom": null,
            "display": null,
            "flex": null,
            "flex_flow": null,
            "grid_area": null,
            "grid_auto_columns": null,
            "grid_auto_flow": null,
            "grid_auto_rows": null,
            "grid_column": null,
            "grid_gap": null,
            "grid_row": null,
            "grid_template_areas": null,
            "grid_template_columns": null,
            "grid_template_rows": null,
            "height": null,
            "justify_content": null,
            "justify_items": null,
            "left": null,
            "margin": null,
            "max_height": null,
            "max_width": null,
            "min_height": null,
            "min_width": null,
            "object_fit": null,
            "object_position": null,
            "order": null,
            "overflow": null,
            "overflow_x": null,
            "overflow_y": null,
            "padding": null,
            "right": null,
            "top": null,
            "visibility": null,
            "width": null
          }
        },
        "e12c33d68d2d40828de918e4c0dd616e": {
          "model_module": "@jupyter-widgets/controls",
          "model_name": "ProgressStyleModel",
          "model_module_version": "1.5.0",
          "state": {
            "_model_module": "@jupyter-widgets/controls",
            "_model_module_version": "1.5.0",
            "_model_name": "ProgressStyleModel",
            "_view_count": null,
            "_view_module": "@jupyter-widgets/base",
            "_view_module_version": "1.2.0",
            "_view_name": "StyleView",
            "bar_color": null,
            "description_width": ""
          }
        },
        "b962b035e68a410bb0389f2bcba1d384": {
          "model_module": "@jupyter-widgets/base",
          "model_name": "LayoutModel",
          "model_module_version": "1.2.0",
          "state": {
            "_model_module": "@jupyter-widgets/base",
            "_model_module_version": "1.2.0",
            "_model_name": "LayoutModel",
            "_view_count": null,
            "_view_module": "@jupyter-widgets/base",
            "_view_module_version": "1.2.0",
            "_view_name": "LayoutView",
            "align_content": null,
            "align_items": null,
            "align_self": null,
            "border": null,
            "bottom": null,
            "display": null,
            "flex": null,
            "flex_flow": null,
            "grid_area": null,
            "grid_auto_columns": null,
            "grid_auto_flow": null,
            "grid_auto_rows": null,
            "grid_column": null,
            "grid_gap": null,
            "grid_row": null,
            "grid_template_areas": null,
            "grid_template_columns": null,
            "grid_template_rows": null,
            "height": null,
            "justify_content": null,
            "justify_items": null,
            "left": null,
            "margin": null,
            "max_height": null,
            "max_width": null,
            "min_height": null,
            "min_width": null,
            "object_fit": null,
            "object_position": null,
            "order": null,
            "overflow": null,
            "overflow_x": null,
            "overflow_y": null,
            "padding": null,
            "right": null,
            "top": null,
            "visibility": null,
            "width": null
          }
        },
        "fbc8f659db2d40429d9f9cb71d987a51": {
          "model_module": "@jupyter-widgets/controls",
          "model_name": "DescriptionStyleModel",
          "model_module_version": "1.5.0",
          "state": {
            "_model_module": "@jupyter-widgets/controls",
            "_model_module_version": "1.5.0",
            "_model_name": "DescriptionStyleModel",
            "_view_count": null,
            "_view_module": "@jupyter-widgets/base",
            "_view_module_version": "1.2.0",
            "_view_name": "StyleView",
            "description_width": ""
          }
        }
      }
    }
  },
  "cells": [
    {
      "cell_type": "code",
      "source": [
        "!pip install transformers\n",
        "!pip install datasets \n",
        "!pip install pandas\n",
        "!pip install evaluate \n",
        "!pip install accelerate\n",
        "!pip install numpy\n",
        "!pip install sklearn\n",
        "!pip install openpyxl"
      ],
      "metadata": {
        "id": "2hwhDXNotN_d"
      },
      "execution_count": null,
      "outputs": []
    },
    {
      "cell_type": "code",
      "source": [
        "from google.colab import drive\n",
        "drive.mount('/content/gdrive')"
      ],
      "metadata": {
        "colab": {
          "base_uri": "https://localhost:8080/"
        },
        "id": "pZ5oII7UeWfx",
        "outputId": "656603a7-975d-4510-855e-9ce09339ca25"
      },
      "execution_count": null,
      "outputs": [
        {
          "output_type": "stream",
          "name": "stdout",
          "text": [
            "Mounted at /content/gdrive\n"
          ]
        }
      ]
    },
    {
      "cell_type": "code",
      "source": [
        "import transformers\n",
        "import datasets\n",
        "import pandas as pd\n",
        "import evaluate\n",
        "import accelerate\n",
        "import numpy as np\n",
        "import sklearn\n",
        "import openpyxl\n",
        "\n",
        "from datasets import Dataset, DatasetDict, load_dataset, load_from_disk\n",
        "from transformers import BertTokenizer, BertForMaskedLM, AutoTokenizer, AutoModel, BertForSequenceClassification, AutoModelForSequenceClassification\n",
        "from transformers import InputExample, InputFeatures, DataCollatorWithPadding\n",
        "\n",
        "from sklearn.model_selection import train_test_split\n",
        "from sklearn.metrics import confusion_matrix\n",
        "from sklearn.metrics import accuracy_score\n",
        "from sklearn.metrics import f1_score, roc_auc_score\n",
        "\n",
        "from transformers import AdamW\n",
        "from transformers import get_scheduler\n",
        "from accelerate import Accelerator\n",
        "from tqdm.auto import tqdm\n",
        "from tqdm import tqdm\n",
        "\n",
        "from torch.utils.data import DataLoader\n",
        "from torch import nn\n",
        "import torch.nn.functional as F\n",
        "from torch.nn.parameter import Parameter\n",
        "import torch.optim as optim\n",
        "import torch.nn.init as init\n",
        "from torch import argmax\n",
        "from torch import no_grad\n"
      ],
      "metadata": {
        "id": "Ay8kmbh1ttjC"
      },
      "execution_count": null,
      "outputs": []
    },
    {
      "cell_type": "code",
      "source": [
        "dataset = load_dataset('climate_fever')  #loading the dataset\n",
        "\n",
        "#------------------making a new row for every claim-evidence pair-----------------------\n",
        "def extract_str(dict_):\n",
        "    x = []\n",
        "    y = []\n",
        "    z = []\n",
        "    for i in dict_[\"evidences\"]:\n",
        "        x.append(i['evidence'])\n",
        "        y.append(i['evidence_label'])\n",
        "        z.append(i['votes'])\n",
        "    dict_[\"evidences_text\"] = x\n",
        "    dict_[\"evidences_label\"] = y\n",
        "    dict_[\"evidences_vote\"] = z\n",
        "       \n",
        "    return dict_\n",
        "\n",
        "df_evid = dataset.map(extract_str)\n",
        "\n",
        "df = pd.DataFrame.from_dict(df_evid['test']).loc[:,['claim','evidences_text','evidences_label',]]\n",
        "\n",
        "df_expl = df.explode('evidences_text', ignore_index = True)\n",
        "\n",
        "df_final = df.apply(pd.Series.explode).reset_index().drop(['index'], axis=1)\n",
        "df_final['idx'] = range(1, len(df_final) + 1)\n",
        "df_final = df_final.rename(columns={\"evidences_label\": \"labels\"}, errors=\"raise\")\n",
        "\n",
        "df_final = df_final[df_final['labels']!=2]   #Using only labels 1 & 2  (i.e. those evidence sentences that either support/refute a claim)"
      ],
      "metadata": {
        "id": "wLE2cYFRAr9V"
      },
      "execution_count": null,
      "outputs": []
    },
    {
      "cell_type": "code",
      "source": [
        "#setting training and validation split\n",
        "train, val = train_test_split(df_final, test_size=0.1)\n",
        "\n",
        "train_final = datasets.Dataset.from_dict(train)\n",
        "val_final = datasets.Dataset.from_dict(val)\n",
        "\n",
        "dataset_dict = datasets.DatasetDict({\"train\":train_final,\"validation\":val_final, })\n",
        "dataset_dict"
      ],
      "metadata": {
        "id": "LIZ_TBdmAuX9"
      },
      "execution_count": null,
      "outputs": []
    },
    {
      "cell_type": "code",
      "source": [
        "#Choosing and downloading the model\n",
        "distil_roberta = \"distilroberta-base\" #this on is case sensitive\n",
        "climatebert = \"climatebert/distilroberta-base-climate-f\"\n",
        "\n",
        "model_name = distil_roberta   #climatebert\n",
        "labels = 2\n",
        "\n",
        "tokenizer = AutoTokenizer.from_pretrained(model_name)\n",
        "model = AutoModelForSequenceClassification.from_pretrained(model_name, num_labels = labels) # problem_type=\"multi_label_classification\")\n",
        "\n",
        "\n",
        "#Tokenizing the dataset\n",
        "def tokenize_function(example):\n",
        "    return tokenizer(example[\"claim\"], example[\"evidences_text\"], truncation=True, max_length = 512,padding='max_length')\n",
        "\n",
        "tokenized_datasets = dataset_dict.map(tokenize_function, batched=True)\n",
        "data_collator = DataCollatorWithPadding(tokenizer=tokenizer)\n",
        "\n",
        "\n",
        "\n",
        "tokenized_datasets = tokenized_datasets.remove_columns([\"claim\", \"evidences_text\", \"idx\"])\n",
        "tokenized_datasets.set_format(\"torch\")\n",
        "tokenized_datasets[\"train\"].column_names\n"
      ],
      "metadata": {
        "id": "xRFfPqG1t7nB"
      },
      "execution_count": null,
      "outputs": []
    },
    {
      "cell_type": "code",
      "source": [
        "#Setting the batch size \n",
        "batch_size = 32\n",
        "\n",
        "#using dataloader to prepare traing and validation datasets\n",
        "train_dataloader = DataLoader(\n",
        "    tokenized_datasets[\"train\"], shuffle=True, batch_size=batch_size, collate_fn=data_collator\n",
        ")\n",
        "eval_dataloader = DataLoader(\n",
        "    tokenized_datasets[\"validation\"], batch_size=batch_size, collate_fn=data_collator\n",
        ")"
      ],
      "metadata": {
        "id": "Dqk-ZA6iAyIY"
      },
      "execution_count": null,
      "outputs": []
    },
    {
      "cell_type": "code",
      "source": [
        "# setting up lists for handling loss/accuracy\n",
        "train_accuracies, eval_accuracies = [],[]\n",
        "train_losses, eval_losses = [],[]\n",
        "\n",
        "train_targs, train_preds = [], []\n",
        "eval_targs, eval_preds = [],[]\n",
        "\n",
        "f1_eval_all, f1_train_all  = [], []\n",
        "#roc_auc_train_all, roc_auc_eval_all= [], []\n",
        "\n",
        "### Initializing model and optimizer\n",
        "accelerator = Accelerator()\n",
        "model = AutoModelForSequenceClassification.from_pretrained(model_name, num_labels=2)\n",
        "optimizer = AdamW(model.parameters(), \n",
        "                lr=5e-5, weight_decay=0.01)\n",
        "\n",
        "### Preparing training and evaluation datasets \n",
        "train_dl, eval_dl, model, optimizer = accelerator.prepare(\n",
        "    train_dataloader, eval_dataloader, model, optimizer\n",
        ")\n",
        "\n",
        "# Setting the scheduler\n",
        "num_epochs = 100\n",
        "num_training_steps = num_epochs * len(train_dl)\n",
        "lr_scheduler = get_scheduler(\n",
        "    \"linear\",\n",
        "    optimizer=optimizer,\n",
        "    num_warmup_steps=0,\n",
        "    num_training_steps=num_training_steps,\n",
        ")"
      ],
      "metadata": {
        "colab": {
          "base_uri": "https://localhost:8080/"
        },
        "id": "gKmLzn-BBri2",
        "outputId": "d03596df-2822-4374-d696-0240695c1cae"
      },
      "execution_count": null,
      "outputs": [
        {
          "output_type": "stream",
          "name": "stderr",
          "text": [
            "Some weights of the model checkpoint at distilroberta-base were not used when initializing RobertaForSequenceClassification: ['lm_head.layer_norm.bias', 'roberta.pooler.dense.bias', 'lm_head.layer_norm.weight', 'lm_head.dense.bias', 'lm_head.dense.weight', 'lm_head.decoder.weight', 'lm_head.bias', 'roberta.pooler.dense.weight']\n",
            "- This IS expected if you are initializing RobertaForSequenceClassification from the checkpoint of a model trained on another task or with another architecture (e.g. initializing a BertForSequenceClassification model from a BertForPreTraining model).\n",
            "- This IS NOT expected if you are initializing RobertaForSequenceClassification from the checkpoint of a model that you expect to be exactly identical (initializing a BertForSequenceClassification model from a BertForSequenceClassification model).\n",
            "Some weights of RobertaForSequenceClassification were not initialized from the model checkpoint at distilroberta-base and are newly initialized: ['classifier.dense.weight', 'classifier.dense.bias', 'classifier.out_proj.weight', 'classifier.out_proj.bias']\n",
            "You should probably TRAIN this model on a down-stream task to be able to use it for predictions and inference.\n",
            "/usr/local/lib/python3.8/dist-packages/transformers/optimization.py:306: FutureWarning: This implementation of AdamW is deprecated and will be removed in a future version. Use the PyTorch implementation torch.optim.AdamW instead, or set `no_deprecation_warning=True` to disable this warning\n",
            "  warnings.warn(\n"
          ]
        }
      ]
    },
    {
      "cell_type": "code",
      "execution_count": null,
      "metadata": {
        "id": "3A1PLPoYtMtm",
        "colab": {
          "base_uri": "https://localhost:8080/",
          "height": 124,
          "referenced_widgets": [
            "64ef093c99ac44b3ab231aec0be6799a",
            "6bf0b117d56b45b786d4dd5fa8fb81b4",
            "65345262847e4c64b173b8d7e3a65431",
            "42fde5c27216428e8130ccefab19c7fb",
            "b7199ea205194c52b0afee723c9dbe8d",
            "cf606cb8c8744902bfd738bb0ab8ac01",
            "abdf4672dbe443059629c241ba4c2c33",
            "6489366c49f64c7c8999a8874210725c",
            "e12c33d68d2d40828de918e4c0dd616e",
            "b962b035e68a410bb0389f2bcba1d384",
            "fbc8f659db2d40429d9f9cb71d987a51"
          ]
        },
        "outputId": "e171b115-1dfb-4dc0-9a86-42bcf014dfa5"
      },
      "outputs": [
        {
          "output_type": "stream",
          "name": "stderr",
          "text": [
            "  0%|          | 0/7800 [00:00<?, ?it/s]You're using a RobertaTokenizerFast tokenizer. Please note that with a fast tokenizer, using the `__call__` method is faster than using a method to encode the text followed by a call to the `pad` method to get a padded encoding.\n",
            "  1%|          | 78/7800 [01:53<2:17:46,  1.07s/it]"
          ]
        },
        {
          "output_type": "display_data",
          "data": {
            "text/plain": [
              "Downloading builder script:   0%|          | 0.00/5.75k [00:00<?, ?B/s]"
            ],
            "application/vnd.jupyter.widget-view+json": {
              "version_major": 2,
              "version_minor": 0,
              "model_id": "64ef093c99ac44b3ab231aec0be6799a"
            }
          },
          "metadata": {}
        },
        {
          "output_type": "stream",
          "name": "stderr",
          "text": [
            " 95%|█████████▌| 7410/7800 [3:31:47<06:58,  1.07s/it]"
          ]
        }
      ],
      "source": [
        "progress_bar = tqdm(range(num_training_steps))\n",
        "for epoch in range(num_epochs):\n",
        "    \n",
        "    #----------------### The training loop ####---------------\n",
        "    model.train()\n",
        "    cur_train_targs, cur_train_preds = [],[]\n",
        "    train_loss = 0\n",
        "    \n",
        "    for batch in train_dl:\n",
        "        outputs = model(**batch)\n",
        "        \n",
        "        #Predictions\n",
        "        logits = outputs.logits\n",
        "        predictions = argmax(logits, dim=-1)\n",
        "        \n",
        "        cur_train_targs += batch[\"labels\"].tolist() \n",
        "        cur_train_preds += predictions.tolist()    \n",
        "        \n",
        "        #Losses\n",
        "        loss = outputs.loss\n",
        "        accelerator.backward(loss)\n",
        "        train_loss += loss \n",
        "        #Optimizer step\n",
        "        optimizer.step()\n",
        "        lr_scheduler.step()\n",
        "        optimizer.zero_grad()\n",
        "        progress_bar.update(1)\n",
        "    \n",
        "    #----------------### The evaluation loop ####---------------\n",
        "    model.eval()\n",
        "    cur_eval_targs, cur_eval_preds = [],[]\n",
        "    eval_loss = 0\n",
        "    metric = evaluate.load(\"glue\", \"mrpc\")\n",
        "\n",
        "    for batch in eval_dl:\n",
        "        with no_grad():\n",
        "            outputs = model(**batch)\n",
        "\n",
        "        #Predictions\n",
        "        logits = outputs.logits\n",
        "        predictions = argmax(logits, dim=-1)\n",
        "        \n",
        "        cur_eval_targs += batch[\"labels\"].tolist()      \n",
        "        cur_eval_preds += predictions.tolist()         \n",
        "        \n",
        "        #Losses\n",
        "        eval_loss += outputs.loss \n",
        "        metric.add_batch(predictions=predictions, references=batch[\"labels\"])\n",
        "\n",
        "    #---- Taking note of the losses and accuracies #--#\n",
        "    train_losses.append(train_loss.tolist() / len(train_dl))  # the training loss\n",
        "    eval_losses.append(eval_loss.tolist() / len(eval_dl))    # the validation loss\n",
        "\n",
        "    train_acc_cur = accuracy_score(cur_train_targs, cur_train_preds)    \n",
        "    train_accuracies.append(train_acc_cur)\n",
        "    \n",
        "    eval_acc_cur = accuracy_score(cur_eval_targs, cur_eval_preds)    \n",
        "    eval_accuracies.append(eval_acc_cur)\n",
        "    \n",
        "    f1_train = f1_score(cur_train_targs, cur_train_preds, average='weighted')\n",
        "    f1_eval = f1_score(cur_eval_targs, cur_eval_preds, average='weighted')\n",
        "    f1_train_all.append(f1_train)\n",
        "    f1_eval_all.append(f1_eval)\n",
        "\n",
        "    #----------- Keeping track of the actual predictions and targets #---------#\n",
        "    eval_targs += cur_eval_targs\n",
        "    eval_preds += cur_eval_preds\n",
        "      \n",
        "    train_targs += cur_train_targs\n",
        "    train_preds += cur_train_preds\n",
        "    #------------------------------------------------------------------------------#\n",
        "\n",
        "    #Saving results to drive\n",
        "    pd.DataFrame(eval_targs).to_excel('/content/gdrive/MyDrive/DL_distilroberta/last_eval_targs.xlsx')\n",
        "    pd.DataFrame(eval_preds).to_excel('/content/gdrive/MyDrive/DL_distilroberta/last_eval_preds.xlsx')\n",
        "    pd.DataFrame(train_targs).to_excel('/content/gdrive/MyDrive/DL_distilroberta/last_train_targs.xlsx')\n",
        "    pd.DataFrame(train_preds).to_excel('/content/gdrive/MyDrive/DL_distilroberta/last_train_preds.xlsx')\n",
        "    pd.DataFrame(train_losses).to_excel('/content/gdrive/MyDrive/DL_distilroberta/train_losses.xlsx')\n",
        "    pd.DataFrame(eval_losses).to_excel('/content/gdrive/MyDrive/DL_distilroberta/eval_losses.xlsx')\n",
        "    pd.DataFrame(train_accuracies).to_excel('/content/gdrive/MyDrive/DL_distilroberta/train_accuracies.xlsx')\n",
        "    pd.DataFrame(eval_accuracies).to_excel('/content/gdrive/MyDrive/DL_distilroberta/eval_accuracies.xlsx')\n",
        "    pd.DataFrame(f1_train_all).to_excel('/content/gdrive/MyDrive/DL_distilroberta/f1_train_all.xlsx')\n",
        "    pd.DataFrame(f1_eval_all).to_excel('/content/gdrive/MyDrive/DL_distilroberta/f1_eval_all.xlsx')\n"
      ]
    },
    {
      "cell_type": "code",
      "source": [
        "import pandas as pd\n",
        "import numpy as np \n",
        "import seaborn as sn \n",
        "\n",
        "import matplotlib.pyplot as plt"
      ],
      "metadata": {
        "id": "tNYHot1v6Dt0"
      },
      "execution_count": null,
      "outputs": []
    },
    {
      "cell_type": "code",
      "source": [
        "from sklearn.metrics import confusion_matrix"
      ],
      "metadata": {
        "id": "0GylJ3-D8ZXr"
      },
      "execution_count": null,
      "outputs": []
    },
    {
      "cell_type": "code",
      "source": [
        "last_eval_targs = pd.read_excel('/content/drive/MyDrive/DL_distilroberta/last_eval_targs.xlsx')\n",
        "last_eval_preds = pd.read_excel('/content/drive/MyDrive/DL_distilroberta/last_eval_preds.xlsx')\n",
        "last_train_targs = pd.read_excel('/content/drive/MyDrive/DL_distilroberta/last_train_targs.xlsx')\n",
        "last_train_preds= pd.read_excel('/content/drive/MyDrive/DL_distilroberta/last_train_preds.xlsx') "
      ],
      "metadata": {
        "id": "16B28fW76gma"
      },
      "execution_count": null,
      "outputs": []
    },
    {
      "cell_type": "code",
      "source": [
        "train_losses = pd.read_excel('/content/drive/MyDrive/DL_distilroberta/train_losses.xlsx')\n",
        "eval_losses= pd.read_excel('/content/drive/MyDrive/DL_distilroberta/eval_losses.xlsx')\n",
        "train_accuracies = pd.read_excel('/content/drive/MyDrive/DL_distilroberta/train_accuracies.xlsx')\n",
        "eval_accuracies = pd.read_excel('/content/drive/MyDrive/DL_distilroberta/eval_accuracies.xlsx')\n",
        "f1_train_all = pd.read_excel('/content/drive/MyDrive/DL_distilroberta/f1_train_all.xlsx')\n",
        "f1_eval_all = pd.read_excel('/content/drive/MyDrive/DL_distilroberta/f1_eval_all.xlsx')"
      ],
      "metadata": {
        "id": "iobxWUXR7zZC"
      },
      "execution_count": null,
      "outputs": []
    },
    {
      "cell_type": "code",
      "source": [
        "#Computing statistics \n",
        "\n",
        "avg_loss_train = np.mean(train_losses)\n",
        "avg_loss_eval = np.mean(eval_losses)\n",
        "\n",
        "avg_accur_train = np.mean(train_accuracies)\n",
        "avg_accur_eval = np.mean(eval_accuracies)\n",
        "\n",
        "avg_f1_train = np.mean(f1_train_all)\n",
        "avg_f1_eval = np.mean(f1_eval_all)\n",
        "\n",
        "best_loss_train = np.min(train_losses)\n",
        "best_loss_eval = np.min(eval_losses)\n",
        "\n",
        "best_accur_train = np.max(train_accuracies)\n",
        "best_accur_eval = np.max(eval_accuracies)\n",
        "\n",
        "best_f1_train = np.max(f1_train_all)\n",
        "best_f1_eval = np.max(f1_eval_all)"
      ],
      "metadata": {
        "id": "V4F-1peZ59bO"
      },
      "execution_count": null,
      "outputs": []
    },
    {
      "cell_type": "code",
      "source": [
        "#saving statistics\n",
        "with open('/content/drive/MyDrive/DL_distilroberta/Resultater_distilroberta.txt','w') as file:\n",
        "    file.write('avg_loss_train: ' + str(avg_loss_train))\n",
        "    file.write('\\n')\n",
        "    file.write('avg_loss_eval: ' + str(avg_loss_eval))\n",
        "    file.write('\\n')\n",
        "    file.write('avg_accur_train: ' + str(avg_accur_train))\n",
        "    file.write('\\n')\n",
        "    file.write('avg_accur_eval: ' + str(avg_accur_eval))\n",
        "    file.write('\\n')\n",
        "    file.write('avg_f1_train: ' + str(avg_f1_train))\n",
        "    file.write('\\n')\n",
        "    file.write('avg_f1_eval: ' + str(avg_f1_eval))\n",
        "    file.write('\\n')\n",
        "    file.write('best_loss_train: ' + str(best_loss_train))\n",
        "    file.write('\\n')\n",
        "    file.write('best_loss_eval: ' + str(best_loss_eval))\n",
        "    file.write('\\n')\n",
        "    file.write('best_accur_train: ' + str(best_accur_train))\n",
        "    file.write('\\n')\n",
        "    file.write('best_accur_eval: ' + str(best_accur_eval))\n",
        "    file.write('\\n')\n",
        "    file.write('best_f1_train: ' + str(best_f1_train))\n",
        "    file.write('\\n')\n",
        "    file.write('best_f1_eval: ' + str(best_f1_eval))"
      ],
      "metadata": {
        "id": "OH37JxDXBfkm"
      },
      "execution_count": null,
      "outputs": []
    },
    {
      "cell_type": "code",
      "source": [
        "# plotting losses, accuracies, f1 and confusion matrix\n",
        "epoch = np.arange(len(train_accuracies))\n",
        "fig_scores = plt.figure()\n",
        "plt.plot(epoch, train_accuracies.iloc[:,-1], 'r', epoch, eval_accuracies.iloc[:,-1], 'b')\n",
        "plt.legend(['Train Accucary','Validation Accuracy'])\n",
        "plt.xlabel('Updates'), plt.ylabel('Acc')\n",
        "fig_scores.savefig('/content/drive/MyDrive/DL_distilroberta/Accuracies_fc_distilroberta.png')"
      ],
      "metadata": {
        "colab": {
          "base_uri": "https://localhost:8080/",
          "height": 279
        },
        "id": "MHvB8k1K8RnP",
        "outputId": "29496ed6-ce71-47a3-9113-824888d917bd"
      },
      "execution_count": null,
      "outputs": [
        {
          "output_type": "display_data",
          "data": {
            "text/plain": [
              "<Figure size 432x288 with 1 Axes>"
            ],
            "image/png": "[encoded data removed]"
          },
          "metadata": {
            "needs_background": "light"
          }
        }
      ]
    },
    {
      "cell_type": "code",
      "source": [
        "epoch = np.arange(len(train_accuracies))\n",
        "fig_scores = plt.figure()\n",
        "plt.plot(epoch, train_losses.iloc[:,-1], 'r', epoch, eval_losses.iloc[:,-1], 'b')\n",
        "plt.legend(['Train Loss','Validation Loss'])\n",
        "plt.xlabel('Updates'), plt.ylabel('Loss')\n",
        "fig_scores.savefig('/content/drive/MyDrive/DL_distilroberta/Losses_fc_distilroberta.png')"
      ],
      "metadata": {
        "colab": {
          "base_uri": "https://localhost:8080/",
          "height": 281
        },
        "id": "Npd0usSi7Vkm",
        "outputId": "7a8bfe05-3e2f-4c37-db12-abcb9bc687c7"
      },
      "execution_count": null,
      "outputs": [
        {
          "output_type": "display_data",
          "data": {
            "text/plain": [
              "<Figure size 432x288 with 1 Axes>"
            ],
            "image/png": "[encoded data removed]"
          },
          "metadata": {
            "needs_background": "light"
          }
        }
      ]
    },
    {
      "cell_type": "code",
      "source": [
        "epoch = np.arange(len(train_accuracies))\n",
        "fig_scores = plt.figure()\n",
        "plt.plot(epoch, f1_train_all.iloc[:,-1], 'r', epoch, f1_eval_all.iloc[:,-1], 'b')\n",
        "plt.legend(['Train f1','Validation f1'])\n",
        "plt.xlabel('Updates'), plt.ylabel('f1')\n",
        "fig_scores.savefig('/content/drive/MyDrive/DL_distilroberta/f1_fc_distilroberta.png')"
      ],
      "metadata": {
        "colab": {
          "base_uri": "https://localhost:8080/",
          "height": 279
        },
        "id": "lQ159qBc7XEZ",
        "outputId": "3f5822d2-7a2e-42b8-8de2-75490b4cae71"
      },
      "execution_count": null,
      "outputs": [
        {
          "output_type": "display_data",
          "data": {
            "text/plain": [
              "<Figure size 432x288 with 1 Axes>"
            ],
            "image/png": "[encoded data removed]"
          },
          "metadata": {
            "needs_background": "light"
          }
        }
      ]
    },
    {
      "cell_type": "code",
      "source": [
        "numpypreds = np.array(last_eval_preds.iloc[-298:,-1])\n",
        "numpypreds = np.where(numpypreds == 0, 'Supports', np.where(numpypreds == 1, 'Refutes', 'Else'))\n",
        "\n",
        "numpylabels = np.array(last_eval_targs.iloc[-298:,-1])\n",
        "numpylabels = np.where(numpylabels == 0, 'Supports', np.where(numpylabels == 1, 'Refutes', 'Else'))"
      ],
      "metadata": {
        "id": "HEO43Dou8V3W"
      },
      "execution_count": null,
      "outputs": []
    },
    {
      "cell_type": "code",
      "source": [
        "confmatrix = confusion_matrix(numpylabels, numpypreds, labels = ['Supports', 'Refutes'], sample_weight=None, normalize=None)\n",
        "fig = plt.figure()\n",
        "ax = fig.add_subplot()\n",
        "sn.heatmap(confmatrix, annot=True, cmap = 'flare',fmt='d', ax=ax, cbar=True);  #an,not=True to annotate cells, ftm='g' to disable scientific notation\n",
        "\n",
        "# labels, title and ticks\n",
        "ax.set_xlabel('Predicted labels'); \n",
        "ax.set_ylabel('True labels'); \n",
        "ax.set_title('Validation Confusion Matrix'+str('/')+'DistilRoBERTa'); \n",
        "ax.xaxis.set_ticklabels(['Supports', 'Refutes']); ax.yaxis.set_ticklabels(['Supports', 'Refutes']);\n",
        "fig.savefig('/content/drive/MyDrive/DL_distilroberta/confmatrix_distilroberta.png')"
      ],
      "metadata": {
        "colab": {
          "base_uri": "https://localhost:8080/",
          "height": 295
        },
        "id": "4cUN-5OT95Ej",
        "outputId": "ad55f937-baa0-406b-de6d-286afd179c19"
      },
      "execution_count": null,
      "outputs": [
        {
          "output_type": "display_data",
          "data": {
            "text/plain": [
              "<Figure size 432x288 with 2 Axes>"
            ],
            "image/png": "[encoded data removed]"
          },
          "metadata": {
            "needs_background": "light"
          }
        }
      ]
    },
    {
      "cell_type": "code",
      "source": [],
      "metadata": {
        "id": "POGnG1ASZS2-"
      },
      "execution_count": null,
      "outputs": []
    }
  ]
}